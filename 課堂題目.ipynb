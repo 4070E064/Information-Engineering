{
  "nbformat": 4,
  "nbformat_minor": 0,
  "metadata": {
    "colab": {
      "name": "課堂題目.ipynb",
      "version": "0.3.2",
      "provenance": [],
      "collapsed_sections": [],
      "include_colab_link": true
    },
    "kernelspec": {
      "name": "python3",
      "display_name": "Python 3"
    }
  },
  "cells": [
    {
      "cell_type": "markdown",
      "metadata": {
        "id": "view-in-github",
        "colab_type": "text"
      },
      "source": [
        "<a href=\"https://colab.research.google.com/github/4070E064/c/blob/master/%E8%AA%B2%E5%A0%82%E9%A1%8C%E7%9B%AE.ipynb\" target=\"_parent\"><img src=\"https://colab.research.google.com/assets/colab-badge.svg\" alt=\"Open In Colab\"/></a>"
      ]
    },
    {
      "metadata": {
        "id": "BCx9gHbTTw83",
        "colab_type": "code",
        "colab": {
          "base_uri": "https://localhost:8080/",
          "height": 34
        },
        "outputId": "e972989a-4543-4517-db06-d6fdcf73e824"
      },
      "cell_type": "code",
      "source": [
        "a=10\n",
        "b=20\n",
        "c=20\n",
        "g={'a':6,'b':8}\n",
        "l={'b':9,'c':10}\n",
        "eval(\"a+b+c\",g,l)"
      ],
      "execution_count": 3,
      "outputs": [
        {
          "output_type": "execute_result",
          "data": {
            "text/plain": [
              "25"
            ]
          },
          "metadata": {
            "tags": []
          },
          "execution_count": 3
        }
      ]
    },
    {
      "metadata": {
        "id": "5kSmoEvKUAPZ",
        "colab_type": "code",
        "colab": {
          "base_uri": "https://localhost:8080/",
          "height": 34
        },
        "outputId": "05db0c75-267c-44e6-ccff-297531193c17"
      },
      "cell_type": "code",
      "source": [
        "eval('pow(2,6)')\n",
        "eval('12 + 21')"
      ],
      "execution_count": 4,
      "outputs": [
        {
          "output_type": "execute_result",
          "data": {
            "text/plain": [
              "33"
            ]
          },
          "metadata": {
            "tags": []
          },
          "execution_count": 4
        }
      ]
    },
    {
      "metadata": {
        "id": "ZOSP15mtXgAI",
        "colab_type": "code",
        "colab": {
          "base_uri": "https://localhost:8080/",
          "height": 68
        },
        "outputId": "f0680544-86ac-4f6b-c252-295d0e96d73c"
      },
      "cell_type": "code",
      "source": [
        "print('%c' % 97)\n",
        "print('%c,%c,%c,%c,%c'% (97,98,99,100,101))\n",
        "print('%d,%o,%x' % (97,97, 97))"
      ],
      "execution_count": 10,
      "outputs": [
        {
          "output_type": "stream",
          "text": [
            "a\n",
            "a,b,c,d,e\n",
            "97,141,61\n"
          ],
          "name": "stdout"
        }
      ]
    },
    {
      "metadata": {
        "id": "KcL02Ue7lYgl",
        "colab_type": "code",
        "colab": {
          "base_uri": "https://localhost:8080/",
          "height": 34
        },
        "outputId": "8a9f75b9-8985-4bad-f169-9fb0bebf1041"
      },
      "cell_type": "code",
      "source": [
        "import time\n",
        "date = time.localtime()\t\t#取得目前的日期時間\n",
        "year = date[0]\n",
        "month = date[1]\n",
        "day = date[2]\n",
        "day_month = [31, 28, 31, 30, 31, 30, 31, 31, 30, 31, 30, 31]\n",
        "if year%400==0 or (year%4==0 and year%100!=0):\t#判斷是否為閏年\n",
        "    day_month[1] = 29\n",
        "if month==1:\n",
        "    print(day)\n",
        "else:\n",
        "    print(sum(day_month[:month-1])+day)"
      ],
      "execution_count": 15,
      "outputs": [
        {
          "output_type": "stream",
          "text": [
            "333\n"
          ],
          "name": "stdout"
        }
      ]
    },
    {
      "metadata": {
        "id": "uw7eFYwelebk",
        "colab_type": "code",
        "colab": {
          "base_uri": "https://localhost:8080/",
          "height": 34
        },
        "outputId": "3c27ef0e-e57a-41e6-9b2e-c0cffaf139dc"
      },
      "cell_type": "code",
      "source": [
        "#!/usr/bin/python\n",
        "# -*- coding: UTF-8 -*-\n",
        "\n",
        "age = 24\n",
        "subject = \"電腦\"\n",
        "college = \"非重點\"\n",
        "if (age > 25 and subject==\"電子資訊工程\") or (college==\"重點\" and subject==\"電子資訊工程\" ) or (age<=28 and subject==\"電腦\"):\n",
        "    print(\"恭喜，您已獲得敝公司的面試機會!\")\n",
        "else:\n",
        "    print(\"抱歉，您未達到面試要求\")"
      ],
      "execution_count": 19,
      "outputs": [
        {
          "output_type": "stream",
          "text": [
            "恭喜，您已獲得敝公司的面試機會!\n"
          ],
          "name": "stdout"
        }
      ]
    }
  ]
}